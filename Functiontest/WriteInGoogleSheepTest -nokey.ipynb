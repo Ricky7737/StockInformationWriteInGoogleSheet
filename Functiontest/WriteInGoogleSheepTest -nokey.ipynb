{
 "cells": [
  {
   "cell_type": "markdown",
   "id": "85373b0d",
   "metadata": {},
   "source": [
    "# 1.建立一個測試用資料"
   ]
  },
  {
   "cell_type": "code",
   "execution_count": 28,
   "id": "232db9d3",
   "metadata": {},
   "outputs": [],
   "source": [
    "#套件\n",
    "from pandas import Series,DataFrame\n",
    "import pandas as pd"
   ]
  },
  {
   "cell_type": "code",
   "execution_count": 29,
   "id": "187acaef",
   "metadata": {},
   "outputs": [
    {
     "name": "stdout",
     "output_type": "stream",
     "text": [
      "    Name  Age  gender\n",
      "0    Amy   25    Male\n",
      "1    Max   28  Female\n",
      "2  Louis   26  Female\n"
     ]
    }
   ],
   "source": [
    "# 建立一個測試用的 dataframe\n",
    "test_data = {\"Name\" : [\"Amy\",\"Max\",\"Louis\"],\n",
    "             \"Age\" : [25, 28, 26],\n",
    "             \"gender\" : [\"Male\", \"Female\", \"Female\"]}\n",
    "df = DataFrame(test_data)\n",
    "print(df)\n"
   ]
  },
  {
   "cell_type": "markdown",
   "id": "76e04ab0",
   "metadata": {},
   "source": [
    "# 2.測試將資料寫入GoogleSheet"
   ]
  },
  {
   "cell_type": "code",
   "execution_count": 30,
   "id": "c366d0a7",
   "metadata": {},
   "outputs": [],
   "source": [
    "import pygsheets"
   ]
  },
  {
   "cell_type": "code",
   "execution_count": 31,
   "id": "03767639",
   "metadata": {},
   "outputs": [],
   "source": [
    "#建立金鑰連結\n",
    "KeyPath = r\"放入Google Cloud key API\"\n",
    "gc = pygsheets.authorize(service_account_file=KeyPath)\n",
    "#指定 google表單寫入的連結\n",
    "googlesheet_url = \"指定googlesheet url\"\n",
    "sh = gc.open_by_url(googlesheet_url)"
   ]
  },
  {
   "cell_type": "code",
   "execution_count": 33,
   "id": "0d2c38cf",
   "metadata": {},
   "outputs": [],
   "source": [
    "#指定寫入表單中的哪個子標單\n",
    "WriteSheet = sh.worksheet_by_title(\"testsheet1\")\n",
    "# updata_value 更改單一表格\n",
    "# 語法 : updata('儲存格為置', '更改值')\n",
    "WriteSheet.update_value('A1', 'test')"
   ]
  },
  {
   "cell_type": "code",
   "execution_count": 34,
   "id": "6d5454d0",
   "metadata": {},
   "outputs": [],
   "source": [
    "WriteSheet.set_dataframe(df, 'A2', copy_index=True, nan='')"
   ]
  },
  {
   "cell_type": "code",
   "execution_count": null,
   "id": "abfeef09",
   "metadata": {},
   "outputs": [],
   "source": []
  }
 ],
 "metadata": {
  "kernelspec": {
   "display_name": "Python 3 (ipykernel)",
   "language": "python",
   "name": "python3"
  },
  "language_info": {
   "codemirror_mode": {
    "name": "ipython",
    "version": 3
   },
   "file_extension": ".py",
   "mimetype": "text/x-python",
   "name": "python",
   "nbconvert_exporter": "python",
   "pygments_lexer": "ipython3",
   "version": "3.11.3"
  }
 },
 "nbformat": 4,
 "nbformat_minor": 5
}
