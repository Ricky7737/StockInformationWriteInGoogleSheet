{
 "cells": [
  {
   "cell_type": "markdown",
   "id": "1cac5f4b",
   "metadata": {},
   "source": [
    "# 1.爬取 期貨交易所 資料"
   ]
  },
  {
   "cell_type": "code",
   "execution_count": 2,
   "id": "712e488c",
   "metadata": {},
   "outputs": [],
   "source": [
    "import pandas as pd\n",
    "import urllib.request, csv"
   ]
  },
  {
   "cell_type": "code",
   "execution_count": 4,
   "id": "6b28df64",
   "metadata": {
    "scrolled": false
   },
   "outputs": [],
   "source": [
    "Taifex_futures_url = \"https://www.taifex.com.tw/data_gov/taifex_open_data.asp?data_name=MarketDataOfMajorInstitutionalTradersGeneralBytheDate\"\n",
    "Taifex_df = pd.read_csv(Taifex_futures_url,encoding='big5')"
   ]
  },
  {
   "cell_type": "code",
   "execution_count": 5,
   "id": "62f16d33",
   "metadata": {},
   "outputs": [
    {
     "data": {
      "text/html": [
       "<div>\n",
       "<style scoped>\n",
       "    .dataframe tbody tr th:only-of-type {\n",
       "        vertical-align: middle;\n",
       "    }\n",
       "\n",
       "    .dataframe tbody tr th {\n",
       "        vertical-align: top;\n",
       "    }\n",
       "\n",
       "    .dataframe thead th {\n",
       "        text-align: right;\n",
       "    }\n",
       "</style>\n",
       "<table border=\"1\" class=\"dataframe\">\n",
       "  <thead>\n",
       "    <tr style=\"text-align: right;\">\n",
       "      <th></th>\n",
       "      <th>日期</th>\n",
       "      <th>身份別</th>\n",
       "      <th>多方交易口數</th>\n",
       "      <th>多方交易契約金額(百萬元)</th>\n",
       "      <th>空方交易口數</th>\n",
       "      <th>空方交易契約金額(百萬元)</th>\n",
       "      <th>多空交易口數淨額</th>\n",
       "      <th>多空交易契約金額淨額(百萬元)</th>\n",
       "      <th>多方未平倉口數</th>\n",
       "      <th>多方未平倉契約金額(百萬元)</th>\n",
       "      <th>空方未平倉口數</th>\n",
       "      <th>空方未平倉契約金額(百萬元)</th>\n",
       "      <th>多空未平倉口數淨額</th>\n",
       "      <th>多空未平倉契約金額淨額(百萬元)</th>\n",
       "    </tr>\n",
       "  </thead>\n",
       "  <tbody>\n",
       "    <tr>\n",
       "      <th>0</th>\n",
       "      <td>20230809</td>\n",
       "      <td>自營商</td>\n",
       "      <td>473757</td>\n",
       "      <td>71707</td>\n",
       "      <td>454955</td>\n",
       "      <td>70486</td>\n",
       "      <td>18802</td>\n",
       "      <td>1221</td>\n",
       "      <td>153777</td>\n",
       "      <td>30943</td>\n",
       "      <td>392559</td>\n",
       "      <td>102580</td>\n",
       "      <td>-238782</td>\n",
       "      <td>-71637</td>\n",
       "    </tr>\n",
       "    <tr>\n",
       "      <th>1</th>\n",
       "      <td>20230809</td>\n",
       "      <td>投信</td>\n",
       "      <td>206</td>\n",
       "      <td>632</td>\n",
       "      <td>135</td>\n",
       "      <td>407</td>\n",
       "      <td>71</td>\n",
       "      <td>225</td>\n",
       "      <td>16162</td>\n",
       "      <td>45143</td>\n",
       "      <td>15873</td>\n",
       "      <td>44202</td>\n",
       "      <td>289</td>\n",
       "      <td>941</td>\n",
       "    </tr>\n",
       "    <tr>\n",
       "      <th>2</th>\n",
       "      <td>20230809</td>\n",
       "      <td>外資及陸資</td>\n",
       "      <td>678335</td>\n",
       "      <td>375305</td>\n",
       "      <td>676458</td>\n",
       "      <td>367989</td>\n",
       "      <td>1877</td>\n",
       "      <td>7316</td>\n",
       "      <td>220105</td>\n",
       "      <td>159568</td>\n",
       "      <td>294150</td>\n",
       "      <td>171888</td>\n",
       "      <td>-74045</td>\n",
       "      <td>-12320</td>\n",
       "    </tr>\n",
       "  </tbody>\n",
       "</table>\n",
       "</div>"
      ],
      "text/plain": [
       "         日期    身份別  多方交易口數  多方交易契約金額(百萬元)  空方交易口數  空方交易契約金額(百萬元)  多空交易口數淨額  \\\n",
       "0  20230809    自營商  473757          71707  454955          70486     18802   \n",
       "1  20230809     投信     206            632     135            407        71   \n",
       "2  20230809  外資及陸資  678335         375305  676458         367989      1877   \n",
       "\n",
       "   多空交易契約金額淨額(百萬元)  多方未平倉口數  多方未平倉契約金額(百萬元)  空方未平倉口數  空方未平倉契約金額(百萬元)  \\\n",
       "0             1221   153777           30943   392559          102580   \n",
       "1              225    16162           45143    15873           44202   \n",
       "2             7316   220105          159568   294150          171888   \n",
       "\n",
       "   多空未平倉口數淨額  多空未平倉契約金額淨額(百萬元)  \n",
       "0    -238782            -71637  \n",
       "1        289               941  \n",
       "2     -74045            -12320  "
      ]
     },
     "execution_count": 5,
     "metadata": {},
     "output_type": "execute_result"
    }
   ],
   "source": [
    "Taifex_df"
   ]
  },
  {
   "cell_type": "code",
   "execution_count": 9,
   "id": "2d4e0779",
   "metadata": {},
   "outputs": [
    {
     "ename": "KeyError",
     "evalue": "\"None of ['身分別'] are in the columns\"",
     "output_type": "error",
     "traceback": [
      "\u001b[1;31m---------------------------------------------------------------------------\u001b[0m",
      "\u001b[1;31mKeyError\u001b[0m                                  Traceback (most recent call last)",
      "Cell \u001b[1;32mIn[9], line 3\u001b[0m\n\u001b[0;32m      1\u001b[0m \u001b[38;5;66;03m# 留下自己需要的欄位，透過 Taifex_df.columns[[0,3,5,7,9,11,13]], axis=1 直接使用索引值\u001b[39;00m\n\u001b[0;32m      2\u001b[0m Taifex_df_new \u001b[38;5;241m=\u001b[39m Taifex_df\u001b[38;5;241m.\u001b[39mdrop(Taifex_df\u001b[38;5;241m.\u001b[39mcolumns[[\u001b[38;5;241m0\u001b[39m,\u001b[38;5;241m3\u001b[39m,\u001b[38;5;241m5\u001b[39m,\u001b[38;5;241m7\u001b[39m,\u001b[38;5;241m9\u001b[39m,\u001b[38;5;241m11\u001b[39m,\u001b[38;5;241m13\u001b[39m]], axis\u001b[38;5;241m=\u001b[39m\u001b[38;5;241m1\u001b[39m)\n\u001b[1;32m----> 3\u001b[0m Taifex_df_reset \u001b[38;5;241m=\u001b[39m Taifex_df_new\u001b[38;5;241m.\u001b[39mset_index(\u001b[38;5;124m'\u001b[39m\u001b[38;5;124m身分別\u001b[39m\u001b[38;5;124m'\u001b[39m) \n\u001b[0;32m      4\u001b[0m Taifex_df_reset\n",
      "File \u001b[1;32m~\\anaconda3\\Lib\\site-packages\\pandas\\util\\_decorators.py:331\u001b[0m, in \u001b[0;36mdeprecate_nonkeyword_arguments.<locals>.decorate.<locals>.wrapper\u001b[1;34m(*args, **kwargs)\u001b[0m\n\u001b[0;32m    325\u001b[0m \u001b[38;5;28;01mif\u001b[39;00m \u001b[38;5;28mlen\u001b[39m(args) \u001b[38;5;241m>\u001b[39m num_allow_args:\n\u001b[0;32m    326\u001b[0m     warnings\u001b[38;5;241m.\u001b[39mwarn(\n\u001b[0;32m    327\u001b[0m         msg\u001b[38;5;241m.\u001b[39mformat(arguments\u001b[38;5;241m=\u001b[39m_format_argument_list(allow_args)),\n\u001b[0;32m    328\u001b[0m         \u001b[38;5;167;01mFutureWarning\u001b[39;00m,\n\u001b[0;32m    329\u001b[0m         stacklevel\u001b[38;5;241m=\u001b[39mfind_stack_level(),\n\u001b[0;32m    330\u001b[0m     )\n\u001b[1;32m--> 331\u001b[0m \u001b[38;5;28;01mreturn\u001b[39;00m func(\u001b[38;5;241m*\u001b[39margs, \u001b[38;5;241m*\u001b[39m\u001b[38;5;241m*\u001b[39mkwargs)\n",
      "File \u001b[1;32m~\\anaconda3\\Lib\\site-packages\\pandas\\core\\frame.py:6012\u001b[0m, in \u001b[0;36mDataFrame.set_index\u001b[1;34m(self, keys, drop, append, inplace, verify_integrity)\u001b[0m\n\u001b[0;32m   6009\u001b[0m                 missing\u001b[38;5;241m.\u001b[39mappend(col)\n\u001b[0;32m   6011\u001b[0m \u001b[38;5;28;01mif\u001b[39;00m missing:\n\u001b[1;32m-> 6012\u001b[0m     \u001b[38;5;28;01mraise\u001b[39;00m \u001b[38;5;167;01mKeyError\u001b[39;00m(\u001b[38;5;124mf\u001b[39m\u001b[38;5;124m\"\u001b[39m\u001b[38;5;124mNone of \u001b[39m\u001b[38;5;132;01m{\u001b[39;00mmissing\u001b[38;5;132;01m}\u001b[39;00m\u001b[38;5;124m are in the columns\u001b[39m\u001b[38;5;124m\"\u001b[39m)\n\u001b[0;32m   6014\u001b[0m \u001b[38;5;28;01mif\u001b[39;00m inplace:\n\u001b[0;32m   6015\u001b[0m     frame \u001b[38;5;241m=\u001b[39m \u001b[38;5;28mself\u001b[39m\n",
      "\u001b[1;31mKeyError\u001b[0m: \"None of ['身分別'] are in the columns\""
     ]
    }
   ],
   "source": [
    "# 留下自己需要的欄位，透過 Taifex_df.columns[[0,3,5,7,9,11,13]], axis=1 直接使用索引值\n",
    "Taifex_df_new = Taifex_df.drop(Taifex_df.columns[[0,3,5,7,9,11,13]], axis=1)\n",
    "Taifex_df_reset = tT \n",
    "Taifex_df_new"
   ]
  },
  {
   "cell_type": "code",
   "execution_count": null,
   "id": "ebdc3664",
   "metadata": {},
   "outputs": [],
   "source": []
  }
 ],
 "metadata": {
  "kernelspec": {
   "display_name": "Python 3 (ipykernel)",
   "language": "python",
   "name": "python3"
  },
  "language_info": {
   "codemirror_mode": {
    "name": "ipython",
    "version": 3
   },
   "file_extension": ".py",
   "mimetype": "text/x-python",
   "name": "python",
   "nbconvert_exporter": "python",
   "pygments_lexer": "ipython3",
   "version": "3.11.3"
  }
 },
 "nbformat": 4,
 "nbformat_minor": 5
}
